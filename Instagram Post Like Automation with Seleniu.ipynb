{
 "cells": [
  {
   "cell_type": "code",
   "execution_count": 1,
   "id": "85873e7a",
   "metadata": {},
   "outputs": [],
   "source": [
    "from selenium import webdriver\n",
    "from selenium.webdriver.chrome.service import Service\n",
    "from selenium.webdriver.common.keys import Keys\n",
    "import time"
   ]
  },
  {
   "cell_type": "code",
   "execution_count": null,
   "id": "03103690",
   "metadata": {},
   "outputs": [],
   "source": [
    "path= \"C:/Users/farha/OneDrive/Desktop/Ducaate/selanium/chromedriver.exe\"\n",
    "s=Service(path)\n",
    "driver=webdriver.Chrome(service=s)\n",
    "driver.get(\"https://www.instagram.com/\")\n",
    "time.sleep(2)\n",
    "username=driver.find_element(\"xpath\",\"\"\"//*[@id=\"loginForm\"]/div/div[1]/div/label/input\"\"\")\n",
    "# username.send_keys(\"sulemanali652\")  #or\n",
    "username.send_keys(input(\"Enter your insta username\"))\n",
    "password=driver.find_element(\"xpath\",\"\"\"//*[@id=\"loginForm\"]/div/div[2]/div/label/input\"\"\")\n",
    "# password.send_keys(\"\") #or\n",
    "password.send_keys(input(\"Enter your insta password\"))\n",
    "password.send_keys(Keys.ENTER)\n",
    "time.sleep(4)\n",
    "# select popup (Allow or Not Now)\n",
    "pop=driver.find_element(\"xpath\",\"/html/body/div[2]/div/div/div[3]/div/div/div[1]/div/div[2]/div/div/div/div/div[2]/div/div/div[3]/button[1]\")\n",
    "time.sleep(2)\n",
    "pop.click()\n",
    "# search icon\n",
    "driver.find_element(\"xpath\",\"/html/body/div[2]/div/div/div[2]/div/div/div/div[1]/div[1]/div[1]/div/div/div/div/div[2]/div[2]\").click()\n",
    "\n",
    "#search box\n",
    "search=driver.find_element(\"xpath\",\"\"\"/html/body/div[2]/div/div/div[2]/div/div/div/div[1]/div[1]/div[1]/div/div/div[2]/div/div/div[2]/div/div/div[1]/div/div/input\"\"\")\n",
    "# search.send_keys(\"itz_arbaz_turk\")  #or                       \n",
    "search.send_keys(input(\"Enter Insta account whhich you want to like past\"))                         \n",
    "time.sleep(2)\n",
    "#select top Search\n",
    "driver.find_element(\"xpath\",\"\"\"/html/body/div[2]/div/div/div[2]/div/div/div/div[1]/div[1]/div[1]/div/div/div[2]/div/div/div[2]/div/div/div[2]/div/a\"\"\").click()\n",
    "time.sleep(6)\n",
    "# Click on top search\n",
    "driver.find_element(\"xpath\",\"\"\"/html/body/div[2]/div/div/div[2]/div/div/div/div[1]/div[1]/div[2]/div[2]/section/main/div/div[3]/article/div/div/div[4]/div[1]/a\"\"\").click()\n",
    "time.sleep(3)\n",
    "#click on like button last page    \n",
    "driver.find_element(\"xpath\",\"\"\"/html/body/div[2]/div/div/div[3]/div/div/div[1]/div/div[3]/div/div/div/div/div[2]/div/article/div/div[2]/div/div/div[2]/section[1]/span[1]\"\"\").click()\n",
    "time.sleep(4)\n",
    "# driver.find_element(\"xpath\",\"\"\"/html/body/div[2]/div/div/div[3]/div/div/div[1]/div/div[3]/div/div/div/div/div[1]/div/div/div/button\"\"\").click()\n",
    "# time.sleep(2)\n",
    "#second last and so on....1\n",
    "for i in range(1,5):\n",
    "        driver.find_element(\"xpath\",\"\"\"/html/body/div[2]/div/div/div[3]/div/div/div[1]/div/div[3]/div/div/div/div/div[2]/div/article/div/div[2]/div/div/div[2]/section[1]/span[1]\"\"\").click()\n",
    "        driver.find_element(\"xpath\",\"\"\"/html/body/div[2]/div/div/div[3]/div/div/div[1]/div/div[3]/div/div/div/div/div[1]/div/div/div[1]/button\"\"\").click()\n",
    "        time.sleep(2)\n",
    "\n",
    "\n",
    "driver.quit()\n"
   ]
  },
  {
   "cell_type": "code",
   "execution_count": null,
   "id": "6ae2a11c",
   "metadata": {},
   "outputs": [],
   "source": []
  }
 ],
 "metadata": {
  "kernelspec": {
   "display_name": "Python 3 (ipykernel)",
   "language": "python",
   "name": "python3"
  },
  "language_info": {
   "codemirror_mode": {
    "name": "ipython",
    "version": 3
   },
   "file_extension": ".py",
   "mimetype": "text/x-python",
   "name": "python",
   "nbconvert_exporter": "python",
   "pygments_lexer": "ipython3",
   "version": "3.10.9"
  }
 },
 "nbformat": 4,
 "nbformat_minor": 5
}
